{
 "cells": [
  {
   "cell_type": "markdown",
   "id": "5d61dea2",
   "metadata": {},
   "source": [
    "---\n",
    "### 10 Minutes Pandas\n",
    "* Object Creation\n",
    "* Viewing Data\n",
    "* Selection\n",
    "* Missing Data\n",
    "* Operation\n",
    "* Merge\n",
    "* Grouping\n",
    "* Reshaping\n",
    "* Time Series\n",
    "* Categoricals\n",
    "* Plotting\n",
    "* Getting Data In / Out\n",
    "* Gotchas\n",
    "\n",
    "---"
   ]
  },
  {
   "cell_type": "code",
   "execution_count": 1,
   "id": "cf4cc195",
   "metadata": {},
   "outputs": [],
   "source": [
    "# 필요한 패키지 불러오기\n",
    "import numpy as np\n",
    "import pandas as pd"
   ]
  },
  {
   "cell_type": "markdown",
   "id": "4c1bdba1",
   "metadata": {},
   "source": [
    "### Categoricals"
   ]
  },
  {
   "cell_type": "markdown",
   "id": "6d12c271",
   "metadata": {},
   "source": [
    "* Q) 아래의 데이터프레임이 존재한다. '국가' 데이터(열)을 범주형 데이터로 변환하시오. 이떄 열 이름을 '대륙_카테고리'로 하시오."
   ]
  },
  {
   "cell_type": "code",
   "execution_count": 56,
   "id": "efe7e53b",
   "metadata": {},
   "outputs": [],
   "source": [
    "df = pd.DataFrame({\"기업\":[\"현대\",\"삼성\",\"벤츠\",\"애플\",\"테슬라\"], \"국가\":[\"한국\",\"한국\",\"독일\",\"미국\",\"미국\"]})"
   ]
  },
  {
   "cell_type": "markdown",
   "id": "71788433",
   "metadata": {},
   "source": [
    "* Q) 생각해보니 대륙 카테고리입니다. 대륙_카테고리를 대륙별로 새롭게 범주화하시오(유럽/아메리카/아시아)."
   ]
  },
  {
   "cell_type": "markdown",
   "id": "8d872468",
   "metadata": {},
   "source": [
    "* Q) 대륙 카테고리에 빠진 대륙들을 추가해주시오. 빠진 대륙은 (아프리카, 오세아니아) 입니다."
   ]
  },
  {
   "cell_type": "markdown",
   "id": "088099b0",
   "metadata": {},
   "source": [
    "* Q) 대륙 카테고리를 기준으로 데이터프레임을 정렬하시오(유럽, 아메리카, 이시아, 아프리카, 오세아니아 순으로)."
   ]
  },
  {
   "cell_type": "markdown",
   "id": "1f2e999e",
   "metadata": {},
   "source": [
    "* Q) 대륙 카테고리 별 기업의 숫자를 구하시오."
   ]
  },
  {
   "cell_type": "markdown",
   "id": "27c62151",
   "metadata": {},
   "source": [
    "### Getting Data In / Out"
   ]
  },
  {
   "cell_type": "markdown",
   "id": "14155277",
   "metadata": {},
   "source": [
    "* Q) 공유한 happiness_data.csv 파일을 읽고 df 이름의 객체로 저장하시오."
   ]
  },
  {
   "cell_type": "markdown",
   "id": "063851dc",
   "metadata": {},
   "source": [
    "* Q) df에서 country_name이 \"South Korea\"인 데이터만 필터(filter)한 후 happiness_data_korea.csv 파일(index가 없는 상태)로 저장하시오."
   ]
  },
  {
   "cell_type": "markdown",
   "id": "33ff4ef5",
   "metadata": {},
   "source": [
    "* Q) happiness_data_korea.csv 파일을 읽고 df2 이름의 객체로 저장하시오."
   ]
  },
  {
   "cell_type": "markdown",
   "id": "691e12cd",
   "metadata": {},
   "source": [
    "* df2 데이터프레임에서 social_support가 0.79 이상이며 동시에 freedom_to_make_life_choices가 0.65 이상인 데이터를 필터링한 후 high_happiness.h5 파일의 df3로 저장하시오."
   ]
  },
  {
   "cell_type": "markdown",
   "id": "06e2a696",
   "metadata": {},
   "source": [
    "* high_happiness.h5파일의 df3을 읽고 df3 이름의 객체로 저장하시오."
   ]
  },
  {
   "cell_type": "markdown",
   "id": "01d01714",
   "metadata": {},
   "source": [
    "* df3의 2번째와 3번째 행(index가 4,5번인 행)을 subsetting 한후 df4.xlsx 파일(Sheet 이름은 \"Sheet1\", index가 없는 상태)으로 저장하시오."
   ]
  },
  {
   "cell_type": "markdown",
   "id": "da45daa5",
   "metadata": {},
   "source": [
    "* df4.xlsx 파일을 읽고 df4 이름의 객체로 저장하시오."
   ]
  },
  {
   "cell_type": "markdown",
   "id": "e43c2c18",
   "metadata": {},
   "source": [
    "### Plotting"
   ]
  },
  {
   "cell_type": "markdown",
   "id": "1234eb6d",
   "metadata": {},
   "source": [
    "* 공유한 happiness_data.csv 파일을 읽고 df 이름의 객체로 저장하시오.\n",
    "* df에서 country_name이 \"South Korea\"인 데이터만 필터(filter)한 후 df_korea로 저장하시오.\n",
    "* df_korea에서 \"year\"과 \"happiness\" column만을 select 한 뒤, index을 \"year\"로 설정한 후 그래프로 그려보시오."
   ]
  },
  {
   "cell_type": "markdown",
   "id": "61aa5ad2",
   "metadata": {},
   "source": [
    "* matplotlib의 pyplot을 활용하여 다음을 구하시오.\n",
    "* 년도별 regional_indicator 별 평균 행복을 도표로 구하시오."
   ]
  },
  {
   "cell_type": "markdown",
   "id": "80890af7",
   "metadata": {},
   "source": [
    "### Gotchas(Using if/truth statements with pandas)"
   ]
  },
  {
   "cell_type": "markdown",
   "id": "05dfcd4f",
   "metadata": {},
   "source": [
    "* 아래 코드의 Pandas Series는 False도 포함하고 있으며 False도, 또한 길이가 1 이상 이기에 True가 될 수 있는 상황이여서 에러가 발생합니다."
   ]
  },
  {
   "cell_type": "code",
   "execution_count": null,
   "id": "40d47354",
   "metadata": {},
   "outputs": [],
   "source": [
    "if pd.Series([False, True, False]):\n",
    "    print(\"I was true\")"
   ]
  },
  {
   "cell_type": "markdown",
   "id": "04f37224",
   "metadata": {},
   "source": [
    "* Pandas Series 중 하나라도 True인 경우를 만족하고 싶은 경우 `.any()`를 사용하면 됩니다."
   ]
  },
  {
   "cell_type": "code",
   "execution_count": 86,
   "id": "40a4139c",
   "metadata": {},
   "outputs": [
    {
     "name": "stdout",
     "output_type": "stream",
     "text": [
      "There is at least one True included\n"
     ]
    }
   ],
   "source": [
    "if pd.Series([False, True, False]).any():\n",
    "    print(\"At least one True included\")\n",
    "else:\n",
    "    print(\"No True included\")"
   ]
  },
  {
   "cell_type": "markdown",
   "id": "21d83aec",
   "metadata": {},
   "source": [
    "* Pandas Series가 모두 True인 경우를 만족하고 싶은 경우 `.all()`을 사용하면 됩니다."
   ]
  },
  {
   "cell_type": "code",
   "execution_count": 89,
   "id": "21699cdb",
   "metadata": {},
   "outputs": [
    {
     "name": "stdout",
     "output_type": "stream",
     "text": [
      "Everything is True\n"
     ]
    }
   ],
   "source": [
    "if pd.Series([True, True]).all():\n",
    "    print(\"Everything is True\")\n",
    "else:\n",
    "    print(\"At least one False included\")"
   ]
  },
  {
   "cell_type": "markdown",
   "id": "90ed43f3",
   "metadata": {},
   "source": [
    "* Pandas Series가 비어있는지 확인하고 싶은 경우 `.empty`나 is None을 사용하면 됩니다."
   ]
  },
  {
   "cell_type": "code",
   "execution_count": 100,
   "id": "6c647049",
   "metadata": {},
   "outputs": [
    {
     "name": "stdout",
     "output_type": "stream",
     "text": [
      "At least one element included\n"
     ]
    }
   ],
   "source": [
    "if pd.Series([\"1\"]) is None:  \n",
    "    print(\"No element is included\")\n",
    "else:\n",
    "    print(\"At least one element included\")\n",
    "\n",
    "# 위와 같음\n",
    "# if pd.Series([\"1\"]).empty:\n",
    "#     print(\"No element is included\")\n",
    "# else:\n",
    "#     print(\"At least one element included\")\n",
    "    "
   ]
  }
 ],
 "metadata": {
  "kernelspec": {
   "display_name": "Python 3 (ipykernel)",
   "language": "python",
   "name": "python3"
  },
  "language_info": {
   "codemirror_mode": {
    "name": "ipython",
    "version": 3
   },
   "file_extension": ".py",
   "mimetype": "text/x-python",
   "name": "python",
   "nbconvert_exporter": "python",
   "pygments_lexer": "ipython3",
   "version": "3.9.6"
  }
 },
 "nbformat": 4,
 "nbformat_minor": 5
}
