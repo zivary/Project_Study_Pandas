{
 "cells": [
  {
   "cell_type": "code",
   "execution_count": null,
   "id": "9881d8a7-ee0c-438c-957d-8596c8fc9cf1",
   "metadata": {},
   "outputs": [],
   "source": [
    "import pandas as pd"
   ]
  },
  {
   "cell_type": "code",
   "execution_count": null,
   "id": "7c020904-a733-4147-99d3-f8ec6e7c0763",
   "metadata": {},
   "outputs": [],
   "source": [
    "friends_list = [\n",
    "            ['name',[ 'Jone','Jenny', 'Nate']],\n",
    "            ['age', [20, 30, 30]]],\n",
    "            ['job', ['student', None,'teacher']]\n",
    "          ]"
   ]
  },
  {
   "cell_type": "code",
   "execution_count": null,
   "id": "93a1f750-2a70-4008-bbb8-145ff41ebe87",
   "metadata": {},
   "outputs": [],
   "source": [
    "df = pd.DataFrame.from_dict(friend_list)"
   ]
  },
  {
   "cell_type": "code",
   "execution_count": null,
   "id": "5234635b-b902-4299-8b33-94ac6b422ad1",
   "metadata": {},
   "outputs": [],
   "source": []
  }
 ],
 "metadata": {
  "kernelspec": {
   "display_name": "Python 3 (ipykernel)",
   "language": "python",
   "name": "python3"
  },
  "language_info": {
   "codemirror_mode": {
    "name": "ipython",
    "version": 3
   },
   "file_extension": ".py",
   "mimetype": "text/x-python",
   "name": "python",
   "nbconvert_exporter": "python",
   "pygments_lexer": "ipython3",
   "version": "3.9.7"
  }
 },
 "nbformat": 4,
 "nbformat_minor": 5
}
