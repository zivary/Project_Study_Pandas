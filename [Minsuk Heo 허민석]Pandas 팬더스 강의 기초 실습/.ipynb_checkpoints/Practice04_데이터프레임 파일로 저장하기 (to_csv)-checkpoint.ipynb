{
 "cells": [
  {
   "cell_type": "code",
   "execution_count": 1,
   "id": "9ea9a915-0ede-476d-9dd0-5fde5be26efa",
   "metadata": {},
   "outputs": [],
   "source": [
    "import pandas as pd"
   ]
  },
  {
   "cell_type": "code",
   "execution_count": 2,
   "id": "62634160-f089-43d4-a6cb-7f65a4f669ba",
   "metadata": {},
   "outputs": [],
   "source": [
    "friends = [{'name': 'Jone', 'age': 20, 'job': 'student'},\n",
    "           {'name': 'Jenny', 'age': 30, 'job': None},\n",
    "           {'name': 'Nate', 'age': 30, 'job': 'teacher'}]\n",
    "df = pd.DataFrame(friends)\n",
    "df = df[['name','age','job']] # 이미 위 자료에 들어있는 정보"
   ]
  },
  {
   "cell_type": "code",
   "execution_count": 3,
   "id": "eeeb2630-5494-4da3-b40a-a8dfef475253",
   "metadata": {},
   "outputs": [
    {
     "data": {
      "text/html": [
       "<div>\n",
       "<style scoped>\n",
       "    .dataframe tbody tr th:only-of-type {\n",
       "        vertical-align: middle;\n",
       "    }\n",
       "\n",
       "    .dataframe tbody tr th {\n",
       "        vertical-align: top;\n",
       "    }\n",
       "\n",
       "    .dataframe thead th {\n",
       "        text-align: right;\n",
       "    }\n",
       "</style>\n",
       "<table border=\"1\" class=\"dataframe\">\n",
       "  <thead>\n",
       "    <tr style=\"text-align: right;\">\n",
       "      <th></th>\n",
       "      <th>name</th>\n",
       "      <th>age</th>\n",
       "      <th>job</th>\n",
       "    </tr>\n",
       "  </thead>\n",
       "  <tbody>\n",
       "    <tr>\n",
       "      <th>0</th>\n",
       "      <td>Jone</td>\n",
       "      <td>20</td>\n",
       "      <td>student</td>\n",
       "    </tr>\n",
       "    <tr>\n",
       "      <th>1</th>\n",
       "      <td>Jenny</td>\n",
       "      <td>30</td>\n",
       "      <td>None</td>\n",
       "    </tr>\n",
       "    <tr>\n",
       "      <th>2</th>\n",
       "      <td>Nate</td>\n",
       "      <td>30</td>\n",
       "      <td>teacher</td>\n",
       "    </tr>\n",
       "  </tbody>\n",
       "</table>\n",
       "</div>"
      ],
      "text/plain": [
       "    name  age      job\n",
       "0   Jone   20  student\n",
       "1  Jenny   30     None\n",
       "2   Nate   30  teacher"
      ]
     },
     "execution_count": 3,
     "metadata": {},
     "output_type": "execute_result"
    }
   ],
   "source": [
    "df"
   ]
  },
  {
   "cell_type": "code",
   "execution_count": 4,
   "id": "6c4b363a-70c3-48c2-918b-df9fc0c1c64c",
   "metadata": {},
   "outputs": [],
   "source": [
    "df.to_csv('friends.csv')"
   ]
  },
  {
   "cell_type": "markdown",
   "id": "40cb2090-28d9-4b96-93b6-706c4084413f",
   "metadata": {},
   "source": [
    ">index = True, header = True 는 Default 값으로 자동 생성 \\\n",
    ">df.to_csv('friends.csv') = df.to_csv('friends.csv', index = True, header = True)\n",
    "---"
   ]
  },
  {
   "cell_type": "code",
   "execution_count": 5,
   "id": "eb1d508e-cc37-46c4-b430-95e1b335360f",
   "metadata": {},
   "outputs": [],
   "source": [
    "df.to_csv('friends_index_False.csv', index = False, header = True)"
   ]
  },
  {
   "cell_type": "code",
   "execution_count": 6,
   "id": "d12a0ecd-af1e-4b92-be06-529102f4a2aa",
   "metadata": {},
   "outputs": [],
   "source": [
    "df.to_csv('friends_header_False.csv', index = True, header = False)"
   ]
  },
  {
   "cell_type": "code",
   "execution_count": 7,
   "id": "3c7d35fa-8e98-48d0-ba49-7ce2750b83d5",
   "metadata": {},
   "outputs": [],
   "source": [
    "df.to_csv('friends_index,header_False.csv', index = False, header = False)"
   ]
  },
  {
   "cell_type": "markdown",
   "id": "8baf8d1b-34fa-4527-9e53-6b43cc77d572",
   "metadata": {},
   "source": [
    ">index(row name), header(column name) 삽입, 제거\n",
    "---"
   ]
  },
  {
   "cell_type": "code",
   "execution_count": 10,
   "id": "336e648d-4481-4f46-9b0b-ada70f6e94d4",
   "metadata": {},
   "outputs": [],
   "source": [
    "df.to_csv('friends_False_index_False_None.csv', index = False, header = False, na_rep = 'inoccupation')"
   ]
  },
  {
   "cell_type": "markdown",
   "id": "792cd4c3-4b28-4074-81e6-9d949cea4326",
   "metadata": {},
   "source": [
    ">na_rep = 'inoccupation' \\\n",
    ">저장된 *.csv 파일에서 비어있는 자리에 'inoccupation' 삽입\n",
    "---"
   ]
  }
 ],
 "metadata": {
  "kernelspec": {
   "display_name": "Python 3 (ipykernel)",
   "language": "python",
   "name": "python3"
  },
  "language_info": {
   "codemirror_mode": {
    "name": "ipython",
    "version": 3
   },
   "file_extension": ".py",
   "mimetype": "text/x-python",
   "name": "python",
   "nbconvert_exporter": "python",
   "pygments_lexer": "ipython3",
   "version": "3.9.7"
  }
 },
 "nbformat": 4,
 "nbformat_minor": 5
}
