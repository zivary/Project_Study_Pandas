{
 "cells": [
  {
   "cell_type": "code",
   "execution_count": null,
   "id": "8e101dab-42be-4ca1-a34f-aea48afb9a9c",
   "metadata": {},
   "outputs": [],
   "source": [
    "import pandas as pd"
   ]
  },
  {
   "cell_type": "code",
   "execution_count": null,
   "id": "5172cf2a-bc5d-46f5-95e3-2f698be55e49",
   "metadata": {},
   "outputs": [],
   "source": [
    "friends_list = [\n",
    "            ['name',[ 'Jone','Jenny', 'Nate']],\n",
    "            ['age', [20, 30, 30]]],\n",
    "            ['job', ['student', None,'teacher']]\n",
    "          ]"
   ]
  },
  {
   "cell_type": "code",
   "execution_count": null,
   "id": "063da31b-03a3-4242-a08f-4e9ce9cf7b38",
   "metadata": {},
   "outputs": [],
   "source": [
    "df = pd.DataFrame.from_items(friend_list)"
   ]
  },
  {
   "cell_type": "code",
   "execution_count": null,
   "id": "2c09c81f-d723-43db-8a36-c5bf98a65235",
   "metadata": {},
   "outputs": [],
   "source": [
    ">"
   ]
  }
 ],
 "metadata": {
  "kernelspec": {
   "display_name": "",
   "name": ""
  },
  "language_info": {
   "name": ""
  }
 },
 "nbformat": 4,
 "nbformat_minor": 5
}
