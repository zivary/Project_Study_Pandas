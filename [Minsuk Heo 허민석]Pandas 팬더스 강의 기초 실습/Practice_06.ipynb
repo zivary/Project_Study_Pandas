{
 "cells": [
  {
   "cell_type": "code",
   "execution_count": null,
   "id": "74d69a68-6599-4337-a802-a7b90342c272",
   "metadata": {},
   "outputs": [],
   "source": []
  }
 ],
 "metadata": {
  "kernelspec": {
   "display_name": "",
   "name": ""
  },
  "language_info": {
   "name": ""
  }
 },
 "nbformat": 4,
 "nbformat_minor": 5
}
