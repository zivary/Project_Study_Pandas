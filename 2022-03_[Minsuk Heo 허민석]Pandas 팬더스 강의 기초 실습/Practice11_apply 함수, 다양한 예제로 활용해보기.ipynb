{
 "cells": [
  {
   "cell_type": "code",
   "execution_count": 1,
   "id": "631cb4ec-dd38-40c8-9964-ecf67e658410",
   "metadata": {},
   "outputs": [],
   "source": [
    "import pandas as pd"
   ]
  },
  {
   "cell_type": "code",
   "execution_count": 2,
   "id": "764fdfa6-a603-443f-831a-4fa1e577e848",
   "metadata": {},
   "outputs": [],
   "source": [
    "date_list = [\n",
    "    {'yyyy-mm-dd' : '2000-06-27'},\n",
    "    {'yyyy-mm-dd' : '2002-09-24'},\n",
    "    {'yyyy-mm-dd' : '2005-12-20'},\n",
    "]"
   ]
  },
  {
   "cell_type": "code",
   "execution_count": 3,
   "id": "acc6ae34-aeb6-4426-a09a-ff7124b76ae6",
   "metadata": {
    "tags": []
   },
   "outputs": [
    {
     "data": {
      "text/html": [
       "<div>\n",
       "<style scoped>\n",
       "    .dataframe tbody tr th:only-of-type {\n",
       "        vertical-align: middle;\n",
       "    }\n",
       "\n",
       "    .dataframe tbody tr th {\n",
       "        vertical-align: top;\n",
       "    }\n",
       "\n",
       "    .dataframe thead th {\n",
       "        text-align: right;\n",
       "    }\n",
       "</style>\n",
       "<table border=\"1\" class=\"dataframe\">\n",
       "  <thead>\n",
       "    <tr style=\"text-align: right;\">\n",
       "      <th></th>\n",
       "      <th>yyyy-mm-dd</th>\n",
       "    </tr>\n",
       "  </thead>\n",
       "  <tbody>\n",
       "    <tr>\n",
       "      <th>0</th>\n",
       "      <td>2000-06-27</td>\n",
       "    </tr>\n",
       "    <tr>\n",
       "      <th>1</th>\n",
       "      <td>2002-09-24</td>\n",
       "    </tr>\n",
       "    <tr>\n",
       "      <th>2</th>\n",
       "      <td>2005-12-20</td>\n",
       "    </tr>\n",
       "  </tbody>\n",
       "</table>\n",
       "</div>"
      ],
      "text/plain": [
       "   yyyy-mm-dd\n",
       "0  2000-06-27\n",
       "1  2002-09-24\n",
       "2  2005-12-20"
      ]
     },
     "execution_count": 3,
     "metadata": {},
     "output_type": "execute_result"
    }
   ],
   "source": [
    "pd.DataFrame(date_list, columns = ['yyyy-mm-dd'])"
   ]
  },
  {
   "cell_type": "code",
   "execution_count": 4,
   "id": "d19f2b87-b484-4ac7-88c9-7cf1218792a4",
   "metadata": {},
   "outputs": [],
   "source": [
    "df = pd.DataFrame(date_list, columns = ['yyyy-mm-dd'])"
   ]
  },
  {
   "cell_type": "code",
   "execution_count": 22,
   "id": "0e07af37-d361-42b0-8625-935921ce5b1a",
   "metadata": {},
   "outputs": [],
   "source": [
    "def extract_year(column):\n",
    "    return column.split('-')[0]\n",
    "#매개변수로 'yyyy-mm-dd' 를 사용하지 않고 column 을 사용한 이유는??"
   ]
  },
  {
   "cell_type": "code",
   "execution_count": 14,
   "id": "06351f58-26d8-4389-a72c-2b3c06927c1e",
   "metadata": {},
   "outputs": [],
   "source": [
    "df['year'] = df['yyyy-mm-dd'].apply(extract_year)"
   ]
  },
  {
   "cell_type": "code",
   "execution_count": 7,
   "id": "a4e73c70-633f-48e3-b30c-0e2cb1abdc04",
   "metadata": {},
   "outputs": [
    {
     "data": {
      "text/html": [
       "<div>\n",
       "<style scoped>\n",
       "    .dataframe tbody tr th:only-of-type {\n",
       "        vertical-align: middle;\n",
       "    }\n",
       "\n",
       "    .dataframe tbody tr th {\n",
       "        vertical-align: top;\n",
       "    }\n",
       "\n",
       "    .dataframe thead th {\n",
       "        text-align: right;\n",
       "    }\n",
       "</style>\n",
       "<table border=\"1\" class=\"dataframe\">\n",
       "  <thead>\n",
       "    <tr style=\"text-align: right;\">\n",
       "      <th></th>\n",
       "      <th>yyyy-mm-dd</th>\n",
       "      <th>year</th>\n",
       "    </tr>\n",
       "  </thead>\n",
       "  <tbody>\n",
       "    <tr>\n",
       "      <th>0</th>\n",
       "      <td>2000-06-27</td>\n",
       "      <td>2000</td>\n",
       "    </tr>\n",
       "    <tr>\n",
       "      <th>1</th>\n",
       "      <td>2002-09-24</td>\n",
       "      <td>2002</td>\n",
       "    </tr>\n",
       "    <tr>\n",
       "      <th>2</th>\n",
       "      <td>2005-12-20</td>\n",
       "      <td>2005</td>\n",
       "    </tr>\n",
       "  </tbody>\n",
       "</table>\n",
       "</div>"
      ],
      "text/plain": [
       "   yyyy-mm-dd  year\n",
       "0  2000-06-27  2000\n",
       "1  2002-09-24  2002\n",
       "2  2005-12-20  2005"
      ]
     },
     "execution_count": 7,
     "metadata": {},
     "output_type": "execute_result"
    }
   ],
   "source": [
    "df"
   ]
  },
  {
   "cell_type": "code",
   "execution_count": 8,
   "id": "78e7c45f-31f8-4847-bfca-2a37d17635a7",
   "metadata": {},
   "outputs": [],
   "source": [
    "def get_age(year, current_year):\n",
    "    return current_year - int(year)"
   ]
  },
  {
   "cell_type": "code",
   "execution_count": 9,
   "id": "79c6baf4-0cd2-4719-99b1-e78634eaeb66",
   "metadata": {},
   "outputs": [],
   "source": [
    "df['age'] = df['year'].apply(get_age, current_year=2018)"
   ]
  },
  {
   "cell_type": "code",
   "execution_count": 10,
   "id": "25acc00c-1abc-4919-9d76-876b0fd51835",
   "metadata": {},
   "outputs": [
    {
     "data": {
      "text/html": [
       "<div>\n",
       "<style scoped>\n",
       "    .dataframe tbody tr th:only-of-type {\n",
       "        vertical-align: middle;\n",
       "    }\n",
       "\n",
       "    .dataframe tbody tr th {\n",
       "        vertical-align: top;\n",
       "    }\n",
       "\n",
       "    .dataframe thead th {\n",
       "        text-align: right;\n",
       "    }\n",
       "</style>\n",
       "<table border=\"1\" class=\"dataframe\">\n",
       "  <thead>\n",
       "    <tr style=\"text-align: right;\">\n",
       "      <th></th>\n",
       "      <th>yyyy-mm-dd</th>\n",
       "      <th>year</th>\n",
       "      <th>age</th>\n",
       "    </tr>\n",
       "  </thead>\n",
       "  <tbody>\n",
       "    <tr>\n",
       "      <th>0</th>\n",
       "      <td>2000-06-27</td>\n",
       "      <td>2000</td>\n",
       "      <td>18</td>\n",
       "    </tr>\n",
       "    <tr>\n",
       "      <th>1</th>\n",
       "      <td>2002-09-24</td>\n",
       "      <td>2002</td>\n",
       "      <td>16</td>\n",
       "    </tr>\n",
       "    <tr>\n",
       "      <th>2</th>\n",
       "      <td>2005-12-20</td>\n",
       "      <td>2005</td>\n",
       "      <td>13</td>\n",
       "    </tr>\n",
       "  </tbody>\n",
       "</table>\n",
       "</div>"
      ],
      "text/plain": [
       "   yyyy-mm-dd  year  age\n",
       "0  2000-06-27  2000   18\n",
       "1  2002-09-24  2002   16\n",
       "2  2005-12-20  2005   13"
      ]
     },
     "execution_count": 10,
     "metadata": {},
     "output_type": "execute_result"
    }
   ],
   "source": [
    "df"
   ]
  },
  {
   "cell_type": "code",
   "execution_count": 16,
   "id": "1f209b64-625d-44e7-bc4c-ba86ee169d97",
   "metadata": {},
   "outputs": [],
   "source": [
    "def get_introduce(age, prefix, suffix):\n",
    "    return prefix + str(age)+ suffix"
   ]
  },
  {
   "cell_type": "code",
   "execution_count": 31,
   "id": "01075432-a999-44a9-8dfe-e9a158e3036b",
   "metadata": {},
   "outputs": [],
   "source": [
    "df.introduce = df['age'].apply(get_introduce, prefix =\"I am \", suffix = \" years old.\")"
   ]
  },
  {
   "cell_type": "markdown",
   "id": "c7d05c0b-60d9-46f6-9b2d-9b3e1f0c02ac",
   "metadata": {},
   "source": [
    ">= df['introduce'] = df['age'].apply(get_introduce, prefix =\"I am \", suffix = \" years old.\")"
   ]
  },
  {
   "cell_type": "code",
   "execution_count": 29,
   "id": "3130f280-f2b8-4679-96d5-d8bd2a8e6e30",
   "metadata": {},
   "outputs": [
    {
     "data": {
      "text/html": [
       "<div>\n",
       "<style scoped>\n",
       "    .dataframe tbody tr th:only-of-type {\n",
       "        vertical-align: middle;\n",
       "    }\n",
       "\n",
       "    .dataframe tbody tr th {\n",
       "        vertical-align: top;\n",
       "    }\n",
       "\n",
       "    .dataframe thead th {\n",
       "        text-align: right;\n",
       "    }\n",
       "</style>\n",
       "<table border=\"1\" class=\"dataframe\">\n",
       "  <thead>\n",
       "    <tr style=\"text-align: right;\">\n",
       "      <th></th>\n",
       "      <th>yyyy-mm-dd</th>\n",
       "      <th>year</th>\n",
       "      <th>age</th>\n",
       "      <th>introduce</th>\n",
       "      <th>introduce_2</th>\n",
       "    </tr>\n",
       "  </thead>\n",
       "  <tbody>\n",
       "    <tr>\n",
       "      <th>0</th>\n",
       "      <td>2000-06-27</td>\n",
       "      <td>2000</td>\n",
       "      <td>18</td>\n",
       "      <td>I am 18 years old.</td>\n",
       "      <td>I was born in 2000 my age is 18</td>\n",
       "    </tr>\n",
       "    <tr>\n",
       "      <th>1</th>\n",
       "      <td>2002-09-24</td>\n",
       "      <td>2002</td>\n",
       "      <td>16</td>\n",
       "      <td>I am 16 years old.</td>\n",
       "      <td>I was born in 2002 my age is 16</td>\n",
       "    </tr>\n",
       "    <tr>\n",
       "      <th>2</th>\n",
       "      <td>2005-12-20</td>\n",
       "      <td>2005</td>\n",
       "      <td>13</td>\n",
       "      <td>I am 13 years old.</td>\n",
       "      <td>I was born in 2005 my age is 13</td>\n",
       "    </tr>\n",
       "  </tbody>\n",
       "</table>\n",
       "</div>"
      ],
      "text/plain": [
       "   yyyy-mm-dd  year  age           introduce                      introduce_2\n",
       "0  2000-06-27  2000   18  I am 18 years old.  I was born in 2000 my age is 18\n",
       "1  2002-09-24  2002   16  I am 16 years old.  I was born in 2002 my age is 16\n",
       "2  2005-12-20  2005   13  I am 13 years old.  I was born in 2005 my age is 13"
      ]
     },
     "execution_count": 29,
     "metadata": {},
     "output_type": "execute_result"
    }
   ],
   "source": [
    "df"
   ]
  },
  {
   "cell_type": "code",
   "execution_count": 23,
   "id": "79b7530d-bed8-4aa2-85c8-031b25a6882d",
   "metadata": {},
   "outputs": [],
   "source": [
    "def get_introduce_2(row):\n",
    "    return \"I was born in \" + str(row.year) + \" my age is \" + str(row.age)"
   ]
  },
  {
   "cell_type": "code",
   "execution_count": 27,
   "id": "76afd0b5-55b3-4181-8fc2-73081e4b207b",
   "metadata": {},
   "outputs": [],
   "source": [
    "df['introduce_2'] = df.apply(get_introduce_2, axis=1)"
   ]
  },
  {
   "cell_type": "markdown",
   "id": "5d032a07-0a99-4410-b791-125b07d8f860",
   "metadata": {},
   "source": [
    ">= df.introduce_2 = df.apply(get_introduce_2, axis=1)"
   ]
  },
  {
   "cell_type": "code",
   "execution_count": 26,
   "id": "f4b78293-973d-4a70-a302-0a047283e170",
   "metadata": {},
   "outputs": [
    {
     "data": {
      "text/html": [
       "<div>\n",
       "<style scoped>\n",
       "    .dataframe tbody tr th:only-of-type {\n",
       "        vertical-align: middle;\n",
       "    }\n",
       "\n",
       "    .dataframe tbody tr th {\n",
       "        vertical-align: top;\n",
       "    }\n",
       "\n",
       "    .dataframe thead th {\n",
       "        text-align: right;\n",
       "    }\n",
       "</style>\n",
       "<table border=\"1\" class=\"dataframe\">\n",
       "  <thead>\n",
       "    <tr style=\"text-align: right;\">\n",
       "      <th></th>\n",
       "      <th>yyyy-mm-dd</th>\n",
       "      <th>year</th>\n",
       "      <th>age</th>\n",
       "      <th>introduce</th>\n",
       "      <th>introduce_2</th>\n",
       "    </tr>\n",
       "  </thead>\n",
       "  <tbody>\n",
       "    <tr>\n",
       "      <th>0</th>\n",
       "      <td>2000-06-27</td>\n",
       "      <td>2000</td>\n",
       "      <td>18</td>\n",
       "      <td>I am 18 years old.</td>\n",
       "      <td>I was born in 2000 my age is 18</td>\n",
       "    </tr>\n",
       "    <tr>\n",
       "      <th>1</th>\n",
       "      <td>2002-09-24</td>\n",
       "      <td>2002</td>\n",
       "      <td>16</td>\n",
       "      <td>I am 16 years old.</td>\n",
       "      <td>I was born in 2002 my age is 16</td>\n",
       "    </tr>\n",
       "    <tr>\n",
       "      <th>2</th>\n",
       "      <td>2005-12-20</td>\n",
       "      <td>2005</td>\n",
       "      <td>13</td>\n",
       "      <td>I am 13 years old.</td>\n",
       "      <td>I was born in 2005 my age is 13</td>\n",
       "    </tr>\n",
       "  </tbody>\n",
       "</table>\n",
       "</div>"
      ],
      "text/plain": [
       "   yyyy-mm-dd  year  age           introduce                      introduce_2\n",
       "0  2000-06-27  2000   18  I am 18 years old.  I was born in 2000 my age is 18\n",
       "1  2002-09-24  2002   16  I am 16 years old.  I was born in 2002 my age is 16\n",
       "2  2005-12-20  2005   13  I am 13 years old.  I was born in 2005 my age is 13"
      ]
     },
     "execution_count": 26,
     "metadata": {},
     "output_type": "execute_result"
    }
   ],
   "source": [
    "df"
   ]
  },
  {
   "cell_type": "code",
   "execution_count": null,
   "id": "76e88f81-6cbe-402f-bef8-b002a5d0d830",
   "metadata": {},
   "outputs": [],
   "source": []
  }
 ],
 "metadata": {
  "kernelspec": {
   "display_name": "Python 3 (ipykernel)",
   "language": "python",
   "name": "python3"
  },
  "language_info": {
   "codemirror_mode": {
    "name": "ipython",
    "version": 3
   },
   "file_extension": ".py",
   "mimetype": "text/x-python",
   "name": "python",
   "nbconvert_exporter": "python",
   "pygments_lexer": "ipython3",
   "version": "3.9.7"
  }
 },
 "nbformat": 4,
 "nbformat_minor": 5
}
